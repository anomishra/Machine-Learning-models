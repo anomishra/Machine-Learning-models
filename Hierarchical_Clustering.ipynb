{
  "nbformat": 4,
  "nbformat_minor": 0,
  "metadata": {
    "colab": {
      "name": "Hierarchical Clustering.ipynb",
      "version": "0.3.2",
      "provenance": [],
      "collapsed_sections": []
    },
    "kernelspec": {
      "name": "python3",
      "display_name": "Python 3"
    },
    "accelerator": "TPU"
  },
  "cells": [
    {
      "metadata": {
        "id": "F-7R0aqjMVt7",
        "colab_type": "text"
      },
      "cell_type": "markdown",
      "source": [
        "Reference: cognitiveclass.ai :ML0101EN/"
      ]
    },
    {
      "metadata": {
        "id": "foijZzhOMhc1",
        "colab_type": "code",
        "colab": {}
      },
      "cell_type": "code",
      "source": [
        "import numpy as np \n",
        "import pandas as pd\n",
        "from scipy import ndimage \n",
        "from scipy.cluster import hierarchy \n",
        "from scipy.spatial import distance_matrix \n",
        "from matplotlib import pyplot as plt \n",
        "from sklearn import manifold, datasets \n",
        "from sklearn.cluster import AgglomerativeClustering \n",
        "from sklearn.datasets.samples_generator import make_blobs \n",
        "%matplotlib inline"
      ],
      "execution_count": 0,
      "outputs": []
    },
    {
      "metadata": {
        "id": "Pcl38GqPHFbY",
        "colab_type": "text"
      },
      "cell_type": "markdown",
      "source": [
        "Here, grouping of the vehicle models is done."
      ]
    },
    {
      "metadata": {
        "id": "LrVRtW_dG-YK",
        "colab_type": "code",
        "colab": {
          "base_uri": "https://localhost:8080/",
          "height": 215
        },
        "outputId": "ece40063-e662-476d-89ed-b1c5905f0e0a"
      },
      "cell_type": "code",
      "source": [
        "data = pd.read_csv('cars_clus.csv')\n",
        "data.head()"
      ],
      "execution_count": 25,
      "outputs": [
        {
          "output_type": "execute_result",
          "data": {
            "text/html": [
              "<div>\n",
              "<style scoped>\n",
              "    .dataframe tbody tr th:only-of-type {\n",
              "        vertical-align: middle;\n",
              "    }\n",
              "\n",
              "    .dataframe tbody tr th {\n",
              "        vertical-align: top;\n",
              "    }\n",
              "\n",
              "    .dataframe thead th {\n",
              "        text-align: right;\n",
              "    }\n",
              "</style>\n",
              "<table border=\"1\" class=\"dataframe\">\n",
              "  <thead>\n",
              "    <tr style=\"text-align: right;\">\n",
              "      <th></th>\n",
              "      <th>manufact</th>\n",
              "      <th>model</th>\n",
              "      <th>sales</th>\n",
              "      <th>resale</th>\n",
              "      <th>type</th>\n",
              "      <th>price</th>\n",
              "      <th>engine_s</th>\n",
              "      <th>horsepow</th>\n",
              "      <th>wheelbas</th>\n",
              "      <th>width</th>\n",
              "      <th>length</th>\n",
              "      <th>curb_wgt</th>\n",
              "      <th>fuel_cap</th>\n",
              "      <th>mpg</th>\n",
              "      <th>lnsales</th>\n",
              "      <th>partition</th>\n",
              "    </tr>\n",
              "  </thead>\n",
              "  <tbody>\n",
              "    <tr>\n",
              "      <th>0</th>\n",
              "      <td>Acura</td>\n",
              "      <td>Integra</td>\n",
              "      <td>16.919</td>\n",
              "      <td>16.360</td>\n",
              "      <td>0.000</td>\n",
              "      <td>21.500</td>\n",
              "      <td>1.800</td>\n",
              "      <td>140.000</td>\n",
              "      <td>101.200</td>\n",
              "      <td>67.300</td>\n",
              "      <td>172.400</td>\n",
              "      <td>2.639</td>\n",
              "      <td>13.200</td>\n",
              "      <td>28.000</td>\n",
              "      <td>2.828</td>\n",
              "      <td>0.0</td>\n",
              "    </tr>\n",
              "    <tr>\n",
              "      <th>1</th>\n",
              "      <td>Acura</td>\n",
              "      <td>TL</td>\n",
              "      <td>39.384</td>\n",
              "      <td>19.875</td>\n",
              "      <td>0.000</td>\n",
              "      <td>28.400</td>\n",
              "      <td>3.200</td>\n",
              "      <td>225.000</td>\n",
              "      <td>108.100</td>\n",
              "      <td>70.300</td>\n",
              "      <td>192.900</td>\n",
              "      <td>3.517</td>\n",
              "      <td>17.200</td>\n",
              "      <td>25.000</td>\n",
              "      <td>3.673</td>\n",
              "      <td>0.0</td>\n",
              "    </tr>\n",
              "    <tr>\n",
              "      <th>2</th>\n",
              "      <td>Acura</td>\n",
              "      <td>CL</td>\n",
              "      <td>14.114</td>\n",
              "      <td>18.225</td>\n",
              "      <td>0.000</td>\n",
              "      <td>$null$</td>\n",
              "      <td>3.200</td>\n",
              "      <td>225.000</td>\n",
              "      <td>106.900</td>\n",
              "      <td>70.600</td>\n",
              "      <td>192.000</td>\n",
              "      <td>3.470</td>\n",
              "      <td>17.200</td>\n",
              "      <td>26.000</td>\n",
              "      <td>2.647</td>\n",
              "      <td>0.0</td>\n",
              "    </tr>\n",
              "    <tr>\n",
              "      <th>3</th>\n",
              "      <td>Acura</td>\n",
              "      <td>RL</td>\n",
              "      <td>8.588</td>\n",
              "      <td>29.725</td>\n",
              "      <td>0.000</td>\n",
              "      <td>42.000</td>\n",
              "      <td>3.500</td>\n",
              "      <td>210.000</td>\n",
              "      <td>114.600</td>\n",
              "      <td>71.400</td>\n",
              "      <td>196.600</td>\n",
              "      <td>3.850</td>\n",
              "      <td>18.000</td>\n",
              "      <td>22.000</td>\n",
              "      <td>2.150</td>\n",
              "      <td>0.0</td>\n",
              "    </tr>\n",
              "    <tr>\n",
              "      <th>4</th>\n",
              "      <td>Audi</td>\n",
              "      <td>A4</td>\n",
              "      <td>20.397</td>\n",
              "      <td>22.255</td>\n",
              "      <td>0.000</td>\n",
              "      <td>23.990</td>\n",
              "      <td>1.800</td>\n",
              "      <td>150.000</td>\n",
              "      <td>102.600</td>\n",
              "      <td>68.200</td>\n",
              "      <td>178.000</td>\n",
              "      <td>2.998</td>\n",
              "      <td>16.400</td>\n",
              "      <td>27.000</td>\n",
              "      <td>3.015</td>\n",
              "      <td>0.0</td>\n",
              "    </tr>\n",
              "  </tbody>\n",
              "</table>\n",
              "</div>"
            ],
            "text/plain": [
              "  manufact    model   sales  resale   type   price engine_s horsepow wheelbas  \\\n",
              "0    Acura  Integra  16.919  16.360  0.000  21.500    1.800  140.000  101.200   \n",
              "1    Acura       TL  39.384  19.875  0.000  28.400    3.200  225.000  108.100   \n",
              "2    Acura       CL  14.114  18.225  0.000  $null$    3.200  225.000  106.900   \n",
              "3    Acura       RL   8.588  29.725  0.000  42.000    3.500  210.000  114.600   \n",
              "4     Audi       A4  20.397  22.255  0.000  23.990    1.800  150.000  102.600   \n",
              "\n",
              "    width   length curb_wgt fuel_cap     mpg lnsales  partition  \n",
              "0  67.300  172.400    2.639   13.200  28.000   2.828        0.0  \n",
              "1  70.300  192.900    3.517   17.200  25.000   3.673        0.0  \n",
              "2  70.600  192.000    3.470   17.200  26.000   2.647        0.0  \n",
              "3  71.400  196.600    3.850   18.000  22.000   2.150        0.0  \n",
              "4  68.200  178.000    2.998   16.400  27.000   3.015        0.0  "
            ]
          },
          "metadata": {
            "tags": []
          },
          "execution_count": 25
        }
      ]
    },
    {
      "metadata": {
        "id": "PxeKllvFHkn3",
        "colab_type": "text"
      },
      "cell_type": "markdown",
      "source": [
        "Data cleaning for the dataset"
      ]
    },
    {
      "metadata": {
        "id": "m-f91qGrHoYt",
        "colab_type": "code",
        "colab": {
          "base_uri": "https://localhost:8080/",
          "height": 34
        },
        "outputId": "94a46e57-d795-4901-e398-f17a12098261"
      },
      "cell_type": "code",
      "source": [
        "data.size"
      ],
      "execution_count": 26,
      "outputs": [
        {
          "output_type": "execute_result",
          "data": {
            "text/plain": [
              "2544"
            ]
          },
          "metadata": {
            "tags": []
          },
          "execution_count": 26
        }
      ]
    },
    {
      "metadata": {
        "id": "js37sRhiIGUQ",
        "colab_type": "code",
        "colab": {
          "base_uri": "https://localhost:8080/",
          "height": 302
        },
        "outputId": "c5e88102-d88d-4262-d334-bcd08a39c990"
      },
      "cell_type": "code",
      "source": [
        "data.dtypes"
      ],
      "execution_count": 27,
      "outputs": [
        {
          "output_type": "execute_result",
          "data": {
            "text/plain": [
              "manufact      object\n",
              "model         object\n",
              "sales         object\n",
              "resale        object\n",
              "type          object\n",
              "price         object\n",
              "engine_s      object\n",
              "horsepow      object\n",
              "wheelbas      object\n",
              "width         object\n",
              "length        object\n",
              "curb_wgt      object\n",
              "fuel_cap      object\n",
              "mpg           object\n",
              "lnsales       object\n",
              "partition    float64\n",
              "dtype: object"
            ]
          },
          "metadata": {
            "tags": []
          },
          "execution_count": 27
        }
      ]
    },
    {
      "metadata": {
        "id": "0dFQJADWHu_f",
        "colab_type": "code",
        "colab": {
          "base_uri": "https://localhost:8080/",
          "height": 195
        },
        "outputId": "cebc5f3a-2a28-4509-e937-e548c4178f54"
      },
      "cell_type": "code",
      "source": [
        "#changing the datatype to numeric\n",
        "data[[ 'sales', 'resale', 'type', 'price', 'engine_s','horsepow', 'wheelbas', 'width', 'length', 'curb_wgt', 'fuel_cap','mpg', 'lnsales']] = data[['sales', 'resale', 'type', 'price', 'engine_s','horsepow', 'wheelbas', 'width', 'length', 'curb_wgt', 'fuel_cap','mpg', 'lnsales']].apply(pd.to_numeric, errors='coerce')\n",
        "data.head()"
      ],
      "execution_count": 28,
      "outputs": [
        {
          "output_type": "execute_result",
          "data": {
            "text/html": [
              "<div>\n",
              "<style scoped>\n",
              "    .dataframe tbody tr th:only-of-type {\n",
              "        vertical-align: middle;\n",
              "    }\n",
              "\n",
              "    .dataframe tbody tr th {\n",
              "        vertical-align: top;\n",
              "    }\n",
              "\n",
              "    .dataframe thead th {\n",
              "        text-align: right;\n",
              "    }\n",
              "</style>\n",
              "<table border=\"1\" class=\"dataframe\">\n",
              "  <thead>\n",
              "    <tr style=\"text-align: right;\">\n",
              "      <th></th>\n",
              "      <th>manufact</th>\n",
              "      <th>model</th>\n",
              "      <th>sales</th>\n",
              "      <th>resale</th>\n",
              "      <th>type</th>\n",
              "      <th>price</th>\n",
              "      <th>engine_s</th>\n",
              "      <th>horsepow</th>\n",
              "      <th>wheelbas</th>\n",
              "      <th>width</th>\n",
              "      <th>length</th>\n",
              "      <th>curb_wgt</th>\n",
              "      <th>fuel_cap</th>\n",
              "      <th>mpg</th>\n",
              "      <th>lnsales</th>\n",
              "      <th>partition</th>\n",
              "    </tr>\n",
              "  </thead>\n",
              "  <tbody>\n",
              "    <tr>\n",
              "      <th>0</th>\n",
              "      <td>Acura</td>\n",
              "      <td>Integra</td>\n",
              "      <td>16.919</td>\n",
              "      <td>16.360</td>\n",
              "      <td>0.0</td>\n",
              "      <td>21.50</td>\n",
              "      <td>1.8</td>\n",
              "      <td>140.0</td>\n",
              "      <td>101.2</td>\n",
              "      <td>67.3</td>\n",
              "      <td>172.4</td>\n",
              "      <td>2.639</td>\n",
              "      <td>13.2</td>\n",
              "      <td>28.0</td>\n",
              "      <td>2.828</td>\n",
              "      <td>0.0</td>\n",
              "    </tr>\n",
              "    <tr>\n",
              "      <th>1</th>\n",
              "      <td>Acura</td>\n",
              "      <td>TL</td>\n",
              "      <td>39.384</td>\n",
              "      <td>19.875</td>\n",
              "      <td>0.0</td>\n",
              "      <td>28.40</td>\n",
              "      <td>3.2</td>\n",
              "      <td>225.0</td>\n",
              "      <td>108.1</td>\n",
              "      <td>70.3</td>\n",
              "      <td>192.9</td>\n",
              "      <td>3.517</td>\n",
              "      <td>17.2</td>\n",
              "      <td>25.0</td>\n",
              "      <td>3.673</td>\n",
              "      <td>0.0</td>\n",
              "    </tr>\n",
              "    <tr>\n",
              "      <th>2</th>\n",
              "      <td>Acura</td>\n",
              "      <td>CL</td>\n",
              "      <td>14.114</td>\n",
              "      <td>18.225</td>\n",
              "      <td>0.0</td>\n",
              "      <td>NaN</td>\n",
              "      <td>3.2</td>\n",
              "      <td>225.0</td>\n",
              "      <td>106.9</td>\n",
              "      <td>70.6</td>\n",
              "      <td>192.0</td>\n",
              "      <td>3.470</td>\n",
              "      <td>17.2</td>\n",
              "      <td>26.0</td>\n",
              "      <td>2.647</td>\n",
              "      <td>0.0</td>\n",
              "    </tr>\n",
              "    <tr>\n",
              "      <th>3</th>\n",
              "      <td>Acura</td>\n",
              "      <td>RL</td>\n",
              "      <td>8.588</td>\n",
              "      <td>29.725</td>\n",
              "      <td>0.0</td>\n",
              "      <td>42.00</td>\n",
              "      <td>3.5</td>\n",
              "      <td>210.0</td>\n",
              "      <td>114.6</td>\n",
              "      <td>71.4</td>\n",
              "      <td>196.6</td>\n",
              "      <td>3.850</td>\n",
              "      <td>18.0</td>\n",
              "      <td>22.0</td>\n",
              "      <td>2.150</td>\n",
              "      <td>0.0</td>\n",
              "    </tr>\n",
              "    <tr>\n",
              "      <th>4</th>\n",
              "      <td>Audi</td>\n",
              "      <td>A4</td>\n",
              "      <td>20.397</td>\n",
              "      <td>22.255</td>\n",
              "      <td>0.0</td>\n",
              "      <td>23.99</td>\n",
              "      <td>1.8</td>\n",
              "      <td>150.0</td>\n",
              "      <td>102.6</td>\n",
              "      <td>68.2</td>\n",
              "      <td>178.0</td>\n",
              "      <td>2.998</td>\n",
              "      <td>16.4</td>\n",
              "      <td>27.0</td>\n",
              "      <td>3.015</td>\n",
              "      <td>0.0</td>\n",
              "    </tr>\n",
              "  </tbody>\n",
              "</table>\n",
              "</div>"
            ],
            "text/plain": [
              "  manufact    model   sales  resale  type  price  engine_s  horsepow  \\\n",
              "0    Acura  Integra  16.919  16.360   0.0  21.50       1.8     140.0   \n",
              "1    Acura       TL  39.384  19.875   0.0  28.40       3.2     225.0   \n",
              "2    Acura       CL  14.114  18.225   0.0    NaN       3.2     225.0   \n",
              "3    Acura       RL   8.588  29.725   0.0  42.00       3.5     210.0   \n",
              "4     Audi       A4  20.397  22.255   0.0  23.99       1.8     150.0   \n",
              "\n",
              "   wheelbas  width  length  curb_wgt  fuel_cap   mpg  lnsales  partition  \n",
              "0     101.2   67.3   172.4     2.639      13.2  28.0    2.828        0.0  \n",
              "1     108.1   70.3   192.9     3.517      17.2  25.0    3.673        0.0  \n",
              "2     106.9   70.6   192.0     3.470      17.2  26.0    2.647        0.0  \n",
              "3     114.6   71.4   196.6     3.850      18.0  22.0    2.150        0.0  \n",
              "4     102.6   68.2   178.0     2.998      16.4  27.0    3.015        0.0  "
            ]
          },
          "metadata": {
            "tags": []
          },
          "execution_count": 28
        }
      ]
    },
    {
      "metadata": {
        "id": "gbDd6jWaITJH",
        "colab_type": "code",
        "colab": {
          "base_uri": "https://localhost:8080/",
          "height": 302
        },
        "outputId": "1d7d2de0-735e-4838-eb68-c7db46e8572d"
      },
      "cell_type": "code",
      "source": [
        "data.dtypes"
      ],
      "execution_count": 29,
      "outputs": [
        {
          "output_type": "execute_result",
          "data": {
            "text/plain": [
              "manufact      object\n",
              "model         object\n",
              "sales        float64\n",
              "resale       float64\n",
              "type         float64\n",
              "price        float64\n",
              "engine_s     float64\n",
              "horsepow     float64\n",
              "wheelbas     float64\n",
              "width        float64\n",
              "length       float64\n",
              "curb_wgt     float64\n",
              "fuel_cap     float64\n",
              "mpg          float64\n",
              "lnsales      float64\n",
              "partition    float64\n",
              "dtype: object"
            ]
          },
          "metadata": {
            "tags": []
          },
          "execution_count": 29
        }
      ]
    },
    {
      "metadata": {
        "id": "RgmRpt6oI3b0",
        "colab_type": "code",
        "colab": {
          "base_uri": "https://localhost:8080/",
          "height": 302
        },
        "outputId": "02723762-459a-4a5d-e87f-3d9a54a8c605"
      },
      "cell_type": "code",
      "source": [
        "data.isnull().sum()"
      ],
      "execution_count": 30,
      "outputs": [
        {
          "output_type": "execute_result",
          "data": {
            "text/plain": [
              "manufact      2\n",
              "model         0\n",
              "sales         2\n",
              "resale       38\n",
              "type          2\n",
              "price         2\n",
              "engine_s      1\n",
              "horsepow      1\n",
              "wheelbas      1\n",
              "width         1\n",
              "length        1\n",
              "curb_wgt      2\n",
              "fuel_cap      1\n",
              "mpg           3\n",
              "lnsales       2\n",
              "partition     0\n",
              "dtype: int64"
            ]
          },
          "metadata": {
            "tags": []
          },
          "execution_count": 30
        }
      ]
    },
    {
      "metadata": {
        "id": "B-N8WEV0Ick8",
        "colab_type": "code",
        "colab": {
          "base_uri": "https://localhost:8080/",
          "height": 34
        },
        "outputId": "13359d06-3a9f-4e05-f6a3-e5318c328c67"
      },
      "cell_type": "code",
      "source": [
        "#Dropping all null values in the data\n",
        "data = data.dropna()\n",
        "data= data.reset_index(drop=True)\n",
        "data.size"
      ],
      "execution_count": 32,
      "outputs": [
        {
          "output_type": "execute_result",
          "data": {
            "text/plain": [
              "1872"
            ]
          },
          "metadata": {
            "tags": []
          },
          "execution_count": 32
        }
      ]
    },
    {
      "metadata": {
        "id": "nInnJb5mJbDM",
        "colab_type": "code",
        "colab": {
          "base_uri": "https://localhost:8080/",
          "height": 195
        },
        "outputId": "38a94ae0-1228-4955-9a08-fd38a260f7fb"
      },
      "cell_type": "code",
      "source": [
        "#Selecting the feature set, i.e., independent variables in the dataset\n",
        "\n",
        "feature_set = data[['engine_s',  'horsepow', 'wheelbas', 'width', 'length', 'curb_wgt', 'fuel_cap', 'mpg']]\n",
        "feature_set.head()"
      ],
      "execution_count": 35,
      "outputs": [
        {
          "output_type": "execute_result",
          "data": {
            "text/html": [
              "<div>\n",
              "<style scoped>\n",
              "    .dataframe tbody tr th:only-of-type {\n",
              "        vertical-align: middle;\n",
              "    }\n",
              "\n",
              "    .dataframe tbody tr th {\n",
              "        vertical-align: top;\n",
              "    }\n",
              "\n",
              "    .dataframe thead th {\n",
              "        text-align: right;\n",
              "    }\n",
              "</style>\n",
              "<table border=\"1\" class=\"dataframe\">\n",
              "  <thead>\n",
              "    <tr style=\"text-align: right;\">\n",
              "      <th></th>\n",
              "      <th>engine_s</th>\n",
              "      <th>horsepow</th>\n",
              "      <th>wheelbas</th>\n",
              "      <th>width</th>\n",
              "      <th>length</th>\n",
              "      <th>curb_wgt</th>\n",
              "      <th>fuel_cap</th>\n",
              "      <th>mpg</th>\n",
              "    </tr>\n",
              "  </thead>\n",
              "  <tbody>\n",
              "    <tr>\n",
              "      <th>0</th>\n",
              "      <td>1.8</td>\n",
              "      <td>140.0</td>\n",
              "      <td>101.2</td>\n",
              "      <td>67.3</td>\n",
              "      <td>172.4</td>\n",
              "      <td>2.639</td>\n",
              "      <td>13.2</td>\n",
              "      <td>28.0</td>\n",
              "    </tr>\n",
              "    <tr>\n",
              "      <th>1</th>\n",
              "      <td>3.2</td>\n",
              "      <td>225.0</td>\n",
              "      <td>108.1</td>\n",
              "      <td>70.3</td>\n",
              "      <td>192.9</td>\n",
              "      <td>3.517</td>\n",
              "      <td>17.2</td>\n",
              "      <td>25.0</td>\n",
              "    </tr>\n",
              "    <tr>\n",
              "      <th>2</th>\n",
              "      <td>3.5</td>\n",
              "      <td>210.0</td>\n",
              "      <td>114.6</td>\n",
              "      <td>71.4</td>\n",
              "      <td>196.6</td>\n",
              "      <td>3.850</td>\n",
              "      <td>18.0</td>\n",
              "      <td>22.0</td>\n",
              "    </tr>\n",
              "    <tr>\n",
              "      <th>3</th>\n",
              "      <td>1.8</td>\n",
              "      <td>150.0</td>\n",
              "      <td>102.6</td>\n",
              "      <td>68.2</td>\n",
              "      <td>178.0</td>\n",
              "      <td>2.998</td>\n",
              "      <td>16.4</td>\n",
              "      <td>27.0</td>\n",
              "    </tr>\n",
              "    <tr>\n",
              "      <th>4</th>\n",
              "      <td>2.8</td>\n",
              "      <td>200.0</td>\n",
              "      <td>108.7</td>\n",
              "      <td>76.1</td>\n",
              "      <td>192.0</td>\n",
              "      <td>3.561</td>\n",
              "      <td>18.5</td>\n",
              "      <td>22.0</td>\n",
              "    </tr>\n",
              "  </tbody>\n",
              "</table>\n",
              "</div>"
            ],
            "text/plain": [
              "   engine_s  horsepow  wheelbas  width  length  curb_wgt  fuel_cap   mpg\n",
              "0       1.8     140.0     101.2   67.3   172.4     2.639      13.2  28.0\n",
              "1       3.2     225.0     108.1   70.3   192.9     3.517      17.2  25.0\n",
              "2       3.5     210.0     114.6   71.4   196.6     3.850      18.0  22.0\n",
              "3       1.8     150.0     102.6   68.2   178.0     2.998      16.4  27.0\n",
              "4       2.8     200.0     108.7   76.1   192.0     3.561      18.5  22.0"
            ]
          },
          "metadata": {
            "tags": []
          },
          "execution_count": 35
        }
      ]
    },
    {
      "metadata": {
        "id": "V1f7dALMJzfV",
        "colab_type": "code",
        "colab": {
          "base_uri": "https://localhost:8080/",
          "height": 185
        },
        "outputId": "ce48fc86-8772-4fc0-ce47-d995c4f253fd"
      },
      "cell_type": "code",
      "source": [
        "# Normalisation of the feature_Set between 0 to 1\n",
        "\n",
        "from sklearn.preprocessing import MinMaxScaler\n",
        "\n",
        "x = feature_set.values #returns a numpy array\n",
        "feature_mtx = MinMaxScaler().fit_transform(x)\n",
        "feature_mtx [0:5]"
      ],
      "execution_count": 38,
      "outputs": [
        {
          "output_type": "execute_result",
          "data": {
            "text/plain": [
              "array([[0.11428571, 0.21518987, 0.18655098, 0.28143713, 0.30625832,\n",
              "        0.2310559 , 0.13364055, 0.43333333],\n",
              "       [0.31428571, 0.43037975, 0.3362256 , 0.46107784, 0.5792277 ,\n",
              "        0.50372671, 0.31797235, 0.33333333],\n",
              "       [0.35714286, 0.39240506, 0.47722343, 0.52694611, 0.62849534,\n",
              "        0.60714286, 0.35483871, 0.23333333],\n",
              "       [0.11428571, 0.24050633, 0.21691974, 0.33532934, 0.38082557,\n",
              "        0.34254658, 0.28110599, 0.4       ],\n",
              "       [0.25714286, 0.36708861, 0.34924078, 0.80838323, 0.56724368,\n",
              "        0.5173913 , 0.37788018, 0.23333333]])"
            ]
          },
          "metadata": {
            "tags": []
          },
          "execution_count": 38
        }
      ]
    },
    {
      "metadata": {
        "id": "7P229FVuKtoO",
        "colab_type": "text"
      },
      "cell_type": "markdown",
      "source": [
        "Calculating the distance in agglomerative clustering, at each iteration, the algorithm must update the distance matrix to reflect the distance of the newly formed cluster with the remaining clusters in the forest. \n"
      ]
    },
    {
      "metadata": {
        "id": "7Abxl_0YKTlf",
        "colab_type": "code",
        "colab": {
          "base_uri": "https://localhost:8080/",
          "height": 134
        },
        "outputId": "ce96f04c-95d9-424b-fe1f-c5facd9e12b0"
      },
      "cell_type": "code",
      "source": [
        "#Clustering\n",
        "\n",
        "dist_matrix = distance_matrix(feature_mtx,feature_mtx) \n",
        "print(dist_matrix)"
      ],
      "execution_count": 40,
      "outputs": [
        {
          "output_type": "stream",
          "text": [
            "[[0.         0.57777143 0.75455727 ... 0.28530295 0.24917241 0.18879995]\n",
            " [0.57777143 0.         0.22798938 ... 0.36087756 0.66346677 0.62201282]\n",
            " [0.75455727 0.22798938 0.         ... 0.51727787 0.81786095 0.77930119]\n",
            " ...\n",
            " [0.28530295 0.36087756 0.51727787 ... 0.         0.41797928 0.35720492]\n",
            " [0.24917241 0.66346677 0.81786095 ... 0.41797928 0.         0.15212198]\n",
            " [0.18879995 0.62201282 0.77930119 ... 0.35720492 0.15212198 0.        ]]\n"
          ],
          "name": "stdout"
        }
      ]
    },
    {
      "metadata": {
        "id": "2CAfQzvoK8gx",
        "colab_type": "code",
        "colab": {
          "base_uri": "https://localhost:8080/",
          "height": 118
        },
        "outputId": "219687a2-5a3c-45f8-f64f-03aa737a2128"
      },
      "cell_type": "code",
      "source": [
        "#Applying the clustering with 6 clusters\n",
        "\n",
        "AG = AgglomerativeClustering(n_clusters = 6, linkage = 'complete')\n",
        "AG.fit(feature_mtx)\n",
        "AG.labels_"
      ],
      "execution_count": 41,
      "outputs": [
        {
          "output_type": "execute_result",
          "data": {
            "text/plain": [
              "array([1, 2, 2, 1, 2, 3, 1, 2, 2, 2, 2, 2, 3, 3, 2, 1, 1, 2, 2, 2, 5, 1,\n",
              "       4, 1, 1, 2, 1, 2, 1, 1, 1, 5, 0, 0, 0, 3, 2, 1, 2, 1, 2, 3, 2, 3,\n",
              "       0, 3, 0, 1, 1, 1, 2, 3, 1, 1, 1, 2, 1, 1, 2, 2, 2, 3, 3, 3, 1, 1,\n",
              "       1, 2, 1, 2, 2, 1, 1, 2, 3, 2, 3, 1, 2, 3, 5, 1, 1, 2, 3, 2, 1, 3,\n",
              "       2, 3, 1, 1, 2, 1, 1, 2, 2, 2, 1, 1, 1, 1, 1, 1, 1, 1, 2, 1, 1, 1,\n",
              "       2, 0, 1, 1, 1, 1, 1])"
            ]
          },
          "metadata": {
            "tags": []
          },
          "execution_count": 41
        }
      ]
    },
    {
      "metadata": {
        "id": "JZN9Y8nDLLKS",
        "colab_type": "code",
        "colab": {
          "base_uri": "https://localhost:8080/",
          "height": 215
        },
        "outputId": "77f58c3d-6ddb-49e2-e08e-5057d914f27d"
      },
      "cell_type": "code",
      "source": [
        "data['cluster_'] = AG.labels_\n",
        "data.head()"
      ],
      "execution_count": 42,
      "outputs": [
        {
          "output_type": "execute_result",
          "data": {
            "text/html": [
              "<div>\n",
              "<style scoped>\n",
              "    .dataframe tbody tr th:only-of-type {\n",
              "        vertical-align: middle;\n",
              "    }\n",
              "\n",
              "    .dataframe tbody tr th {\n",
              "        vertical-align: top;\n",
              "    }\n",
              "\n",
              "    .dataframe thead th {\n",
              "        text-align: right;\n",
              "    }\n",
              "</style>\n",
              "<table border=\"1\" class=\"dataframe\">\n",
              "  <thead>\n",
              "    <tr style=\"text-align: right;\">\n",
              "      <th></th>\n",
              "      <th>manufact</th>\n",
              "      <th>model</th>\n",
              "      <th>sales</th>\n",
              "      <th>resale</th>\n",
              "      <th>type</th>\n",
              "      <th>price</th>\n",
              "      <th>engine_s</th>\n",
              "      <th>horsepow</th>\n",
              "      <th>wheelbas</th>\n",
              "      <th>width</th>\n",
              "      <th>length</th>\n",
              "      <th>curb_wgt</th>\n",
              "      <th>fuel_cap</th>\n",
              "      <th>mpg</th>\n",
              "      <th>lnsales</th>\n",
              "      <th>partition</th>\n",
              "      <th>cluster_</th>\n",
              "    </tr>\n",
              "  </thead>\n",
              "  <tbody>\n",
              "    <tr>\n",
              "      <th>0</th>\n",
              "      <td>Acura</td>\n",
              "      <td>Integra</td>\n",
              "      <td>16.919</td>\n",
              "      <td>16.360</td>\n",
              "      <td>0.0</td>\n",
              "      <td>21.50</td>\n",
              "      <td>1.8</td>\n",
              "      <td>140.0</td>\n",
              "      <td>101.2</td>\n",
              "      <td>67.3</td>\n",
              "      <td>172.4</td>\n",
              "      <td>2.639</td>\n",
              "      <td>13.2</td>\n",
              "      <td>28.0</td>\n",
              "      <td>2.828</td>\n",
              "      <td>0.0</td>\n",
              "      <td>1</td>\n",
              "    </tr>\n",
              "    <tr>\n",
              "      <th>1</th>\n",
              "      <td>Acura</td>\n",
              "      <td>TL</td>\n",
              "      <td>39.384</td>\n",
              "      <td>19.875</td>\n",
              "      <td>0.0</td>\n",
              "      <td>28.40</td>\n",
              "      <td>3.2</td>\n",
              "      <td>225.0</td>\n",
              "      <td>108.1</td>\n",
              "      <td>70.3</td>\n",
              "      <td>192.9</td>\n",
              "      <td>3.517</td>\n",
              "      <td>17.2</td>\n",
              "      <td>25.0</td>\n",
              "      <td>3.673</td>\n",
              "      <td>0.0</td>\n",
              "      <td>2</td>\n",
              "    </tr>\n",
              "    <tr>\n",
              "      <th>2</th>\n",
              "      <td>Acura</td>\n",
              "      <td>RL</td>\n",
              "      <td>8.588</td>\n",
              "      <td>29.725</td>\n",
              "      <td>0.0</td>\n",
              "      <td>42.00</td>\n",
              "      <td>3.5</td>\n",
              "      <td>210.0</td>\n",
              "      <td>114.6</td>\n",
              "      <td>71.4</td>\n",
              "      <td>196.6</td>\n",
              "      <td>3.850</td>\n",
              "      <td>18.0</td>\n",
              "      <td>22.0</td>\n",
              "      <td>2.150</td>\n",
              "      <td>0.0</td>\n",
              "      <td>2</td>\n",
              "    </tr>\n",
              "    <tr>\n",
              "      <th>3</th>\n",
              "      <td>Audi</td>\n",
              "      <td>A4</td>\n",
              "      <td>20.397</td>\n",
              "      <td>22.255</td>\n",
              "      <td>0.0</td>\n",
              "      <td>23.99</td>\n",
              "      <td>1.8</td>\n",
              "      <td>150.0</td>\n",
              "      <td>102.6</td>\n",
              "      <td>68.2</td>\n",
              "      <td>178.0</td>\n",
              "      <td>2.998</td>\n",
              "      <td>16.4</td>\n",
              "      <td>27.0</td>\n",
              "      <td>3.015</td>\n",
              "      <td>0.0</td>\n",
              "      <td>1</td>\n",
              "    </tr>\n",
              "    <tr>\n",
              "      <th>4</th>\n",
              "      <td>Audi</td>\n",
              "      <td>A6</td>\n",
              "      <td>18.780</td>\n",
              "      <td>23.555</td>\n",
              "      <td>0.0</td>\n",
              "      <td>33.95</td>\n",
              "      <td>2.8</td>\n",
              "      <td>200.0</td>\n",
              "      <td>108.7</td>\n",
              "      <td>76.1</td>\n",
              "      <td>192.0</td>\n",
              "      <td>3.561</td>\n",
              "      <td>18.5</td>\n",
              "      <td>22.0</td>\n",
              "      <td>2.933</td>\n",
              "      <td>0.0</td>\n",
              "      <td>2</td>\n",
              "    </tr>\n",
              "  </tbody>\n",
              "</table>\n",
              "</div>"
            ],
            "text/plain": [
              "  manufact    model   sales  resale  type  price  engine_s  horsepow  \\\n",
              "0    Acura  Integra  16.919  16.360   0.0  21.50       1.8     140.0   \n",
              "1    Acura       TL  39.384  19.875   0.0  28.40       3.2     225.0   \n",
              "2    Acura       RL   8.588  29.725   0.0  42.00       3.5     210.0   \n",
              "3     Audi       A4  20.397  22.255   0.0  23.99       1.8     150.0   \n",
              "4     Audi       A6  18.780  23.555   0.0  33.95       2.8     200.0   \n",
              "\n",
              "   wheelbas  width  length  curb_wgt  fuel_cap   mpg  lnsales  partition  \\\n",
              "0     101.2   67.3   172.4     2.639      13.2  28.0    2.828        0.0   \n",
              "1     108.1   70.3   192.9     3.517      17.2  25.0    3.673        0.0   \n",
              "2     114.6   71.4   196.6     3.850      18.0  22.0    2.150        0.0   \n",
              "3     102.6   68.2   178.0     2.998      16.4  27.0    3.015        0.0   \n",
              "4     108.7   76.1   192.0     3.561      18.5  22.0    2.933        0.0   \n",
              "\n",
              "   cluster_  \n",
              "0         1  \n",
              "1         2  \n",
              "2         2  \n",
              "3         1  \n",
              "4         2  "
            ]
          },
          "metadata": {
            "tags": []
          },
          "execution_count": 42
        }
      ]
    },
    {
      "metadata": {
        "id": "2xsDQysMLYq0",
        "colab_type": "code",
        "colab": {
          "base_uri": "https://localhost:8080/",
          "height": 975
        },
        "outputId": "459471f9-9b54-4b51-84b2-451dbc67b920"
      },
      "cell_type": "code",
      "source": [
        "import matplotlib.cm as cm\n",
        "\n",
        "n_clusters = max(AG.labels_)+1\n",
        "colors = cm.rainbow(np.linspace(0, 1, n_clusters))\n",
        "cluster_labels = list(range(0, n_clusters))\n",
        "\n",
        "\n",
        "plt.figure(figsize=(16,14))\n",
        "\n",
        "for color, label in zip(colors, cluster_labels):\n",
        "    subset = data[data.cluster_ == label]\n",
        "    for i in subset.index:\n",
        "            plt.text(subset.horsepow[i], subset.mpg[i],str(subset['model'][i]), rotation=25) \n",
        "    plt.scatter(subset.horsepow, subset.mpg, s= subset.price*10, c=color, label='cluster'+str(label),alpha=0.5)\n",
        "\n",
        "plt.legend()\n",
        "plt.title('Clusters')\n",
        "plt.xlabel('horsepow')\n",
        "plt.ylabel('mpg')"
      ],
      "execution_count": 43,
      "outputs": [
        {
          "output_type": "stream",
          "text": [
            "'c' argument looks like a single numeric RGB or RGBA sequence, which should be avoided as value-mapping will have precedence in case its length matches with 'x' & 'y'.  Please use a 2-D array with a single row if you really want to specify the same RGB or RGBA value for all points.\n",
            "'c' argument looks like a single numeric RGB or RGBA sequence, which should be avoided as value-mapping will have precedence in case its length matches with 'x' & 'y'.  Please use a 2-D array with a single row if you really want to specify the same RGB or RGBA value for all points.\n",
            "'c' argument looks like a single numeric RGB or RGBA sequence, which should be avoided as value-mapping will have precedence in case its length matches with 'x' & 'y'.  Please use a 2-D array with a single row if you really want to specify the same RGB or RGBA value for all points.\n",
            "'c' argument looks like a single numeric RGB or RGBA sequence, which should be avoided as value-mapping will have precedence in case its length matches with 'x' & 'y'.  Please use a 2-D array with a single row if you really want to specify the same RGB or RGBA value for all points.\n",
            "'c' argument looks like a single numeric RGB or RGBA sequence, which should be avoided as value-mapping will have precedence in case its length matches with 'x' & 'y'.  Please use a 2-D array with a single row if you really want to specify the same RGB or RGBA value for all points.\n",
            "'c' argument looks like a single numeric RGB or RGBA sequence, which should be avoided as value-mapping will have precedence in case its length matches with 'x' & 'y'.  Please use a 2-D array with a single row if you really want to specify the same RGB or RGBA value for all points.\n"
          ],
          "name": "stderr"
        },
        {
          "output_type": "execute_result",
          "data": {
            "text/plain": [
              "Text(0, 0.5, 'mpg')"
            ]
          },
          "metadata": {
            "tags": []
          },
          "execution_count": 43
        },
        {
          "output_type": "display_data",
          "data": {
            "image/png": "[encoded data removed]",
            "text/plain": [
              "<Figure size 1152x1008 with 1 Axes>"
            ]
          },
          "metadata": {
            "tags": []
          }
        }
      ]
    },
    {
      "metadata": {
        "id": "9uIng-IJL181",
        "colab_type": "code",
        "colab": {
          "base_uri": "https://localhost:8080/",
          "height": 202
        },
        "outputId": "fac9aac6-e2af-4d17-e100-4e3d488a87bd"
      },
      "cell_type": "code",
      "source": [
        "data.groupby(['cluster_','type'])['cluster_'].count()"
      ],
      "execution_count": 44,
      "outputs": [
        {
          "output_type": "execute_result",
          "data": {
            "text/plain": [
              "cluster_  type\n",
              "0         1.0      6\n",
              "1         0.0     47\n",
              "          1.0      5\n",
              "2         0.0     27\n",
              "          1.0     11\n",
              "3         0.0     10\n",
              "          1.0      7\n",
              "4         0.0      1\n",
              "5         0.0      3\n",
              "Name: cluster_, dtype: int64"
            ]
          },
          "metadata": {
            "tags": []
          },
          "execution_count": 44
        }
      ]
    },
    {
      "metadata": {
        "id": "t_l-AC2rL6bX",
        "colab_type": "code",
        "colab": {
          "base_uri": "https://localhost:8080/",
          "height": 343
        },
        "outputId": "24a580ed-0c44-49e9-fdc4-6a422ba09166"
      },
      "cell_type": "code",
      "source": [
        "agg_cars = data.groupby(['cluster_','type'])['horsepow','engine_s','mpg','price'].mean()\n",
        "agg_cars"
      ],
      "execution_count": 45,
      "outputs": [
        {
          "output_type": "execute_result",
          "data": {
            "text/html": [
              "<div>\n",
              "<style scoped>\n",
              "    .dataframe tbody tr th:only-of-type {\n",
              "        vertical-align: middle;\n",
              "    }\n",
              "\n",
              "    .dataframe tbody tr th {\n",
              "        vertical-align: top;\n",
              "    }\n",
              "\n",
              "    .dataframe thead th {\n",
              "        text-align: right;\n",
              "    }\n",
              "</style>\n",
              "<table border=\"1\" class=\"dataframe\">\n",
              "  <thead>\n",
              "    <tr style=\"text-align: right;\">\n",
              "      <th></th>\n",
              "      <th></th>\n",
              "      <th>horsepow</th>\n",
              "      <th>engine_s</th>\n",
              "      <th>mpg</th>\n",
              "      <th>price</th>\n",
              "    </tr>\n",
              "    <tr>\n",
              "      <th>cluster_</th>\n",
              "      <th>type</th>\n",
              "      <th></th>\n",
              "      <th></th>\n",
              "      <th></th>\n",
              "      <th></th>\n",
              "    </tr>\n",
              "  </thead>\n",
              "  <tbody>\n",
              "    <tr>\n",
              "      <th>0</th>\n",
              "      <th>1.0</th>\n",
              "      <td>211.666667</td>\n",
              "      <td>4.483333</td>\n",
              "      <td>16.166667</td>\n",
              "      <td>29.024667</td>\n",
              "    </tr>\n",
              "    <tr>\n",
              "      <th rowspan=\"2\" valign=\"top\">1</th>\n",
              "      <th>0.0</th>\n",
              "      <td>146.531915</td>\n",
              "      <td>2.246809</td>\n",
              "      <td>27.021277</td>\n",
              "      <td>20.306128</td>\n",
              "    </tr>\n",
              "    <tr>\n",
              "      <th>1.0</th>\n",
              "      <td>145.000000</td>\n",
              "      <td>2.580000</td>\n",
              "      <td>22.200000</td>\n",
              "      <td>17.009200</td>\n",
              "    </tr>\n",
              "    <tr>\n",
              "      <th rowspan=\"2\" valign=\"top\">2</th>\n",
              "      <th>0.0</th>\n",
              "      <td>203.111111</td>\n",
              "      <td>3.303704</td>\n",
              "      <td>24.214815</td>\n",
              "      <td>27.750593</td>\n",
              "    </tr>\n",
              "    <tr>\n",
              "      <th>1.0</th>\n",
              "      <td>182.090909</td>\n",
              "      <td>3.345455</td>\n",
              "      <td>20.181818</td>\n",
              "      <td>26.265364</td>\n",
              "    </tr>\n",
              "    <tr>\n",
              "      <th rowspan=\"2\" valign=\"top\">3</th>\n",
              "      <th>0.0</th>\n",
              "      <td>256.500000</td>\n",
              "      <td>4.410000</td>\n",
              "      <td>21.500000</td>\n",
              "      <td>42.870400</td>\n",
              "    </tr>\n",
              "    <tr>\n",
              "      <th>1.0</th>\n",
              "      <td>160.571429</td>\n",
              "      <td>3.071429</td>\n",
              "      <td>21.428571</td>\n",
              "      <td>21.527714</td>\n",
              "    </tr>\n",
              "    <tr>\n",
              "      <th>4</th>\n",
              "      <th>0.0</th>\n",
              "      <td>55.000000</td>\n",
              "      <td>1.000000</td>\n",
              "      <td>45.000000</td>\n",
              "      <td>9.235000</td>\n",
              "    </tr>\n",
              "    <tr>\n",
              "      <th>5</th>\n",
              "      <th>0.0</th>\n",
              "      <td>365.666667</td>\n",
              "      <td>6.233333</td>\n",
              "      <td>19.333333</td>\n",
              "      <td>66.010000</td>\n",
              "    </tr>\n",
              "  </tbody>\n",
              "</table>\n",
              "</div>"
            ],
            "text/plain": [
              "                 horsepow  engine_s        mpg      price\n",
              "cluster_ type                                            \n",
              "0        1.0   211.666667  4.483333  16.166667  29.024667\n",
              "1        0.0   146.531915  2.246809  27.021277  20.306128\n",
              "         1.0   145.000000  2.580000  22.200000  17.009200\n",
              "2        0.0   203.111111  3.303704  24.214815  27.750593\n",
              "         1.0   182.090909  3.345455  20.181818  26.265364\n",
              "3        0.0   256.500000  4.410000  21.500000  42.870400\n",
              "         1.0   160.571429  3.071429  21.428571  21.527714\n",
              "4        0.0    55.000000  1.000000  45.000000   9.235000\n",
              "5        0.0   365.666667  6.233333  19.333333  66.010000"
            ]
          },
          "metadata": {
            "tags": []
          },
          "execution_count": 45
        }
      ]
    },
    {
      "metadata": {
        "id": "KIPJJISmMB6x",
        "colab_type": "code",
        "colab": {
          "base_uri": "https://localhost:8080/",
          "height": 758
        },
        "outputId": "4ce39c53-80ce-4e33-de17-b1cb6a18da70"
      },
      "cell_type": "code",
      "source": [
        "plt.figure(figsize=(16,10))\n",
        "for color, label in zip(colors, cluster_labels):\n",
        "    subset = agg_cars.loc[(label,),]\n",
        "    for i in subset.index:\n",
        "        plt.text(subset.loc[i][0]+5, subset.loc[i][2], 'type='+str(int(i)) + ', price='+str(int(subset.loc[i][3]))+'k')\n",
        "    plt.scatter(subset.horsepow, subset.mpg, s=subset.price*20, c=color, label='cluster'+str(label))\n",
        "plt.legend()\n",
        "plt.title('Clusters')\n",
        "plt.xlabel('horsepow')\n",
        "plt.ylabel('mpg')\n"
      ],
      "execution_count": 46,
      "outputs": [
        {
          "output_type": "stream",
          "text": [
            "'c' argument looks like a single numeric RGB or RGBA sequence, which should be avoided as value-mapping will have precedence in case its length matches with 'x' & 'y'.  Please use a 2-D array with a single row if you really want to specify the same RGB or RGBA value for all points.\n",
            "'c' argument looks like a single numeric RGB or RGBA sequence, which should be avoided as value-mapping will have precedence in case its length matches with 'x' & 'y'.  Please use a 2-D array with a single row if you really want to specify the same RGB or RGBA value for all points.\n",
            "'c' argument looks like a single numeric RGB or RGBA sequence, which should be avoided as value-mapping will have precedence in case its length matches with 'x' & 'y'.  Please use a 2-D array with a single row if you really want to specify the same RGB or RGBA value for all points.\n",
            "'c' argument looks like a single numeric RGB or RGBA sequence, which should be avoided as value-mapping will have precedence in case its length matches with 'x' & 'y'.  Please use a 2-D array with a single row if you really want to specify the same RGB or RGBA value for all points.\n",
            "'c' argument looks like a single numeric RGB or RGBA sequence, which should be avoided as value-mapping will have precedence in case its length matches with 'x' & 'y'.  Please use a 2-D array with a single row if you really want to specify the same RGB or RGBA value for all points.\n",
            "'c' argument looks like a single numeric RGB or RGBA sequence, which should be avoided as value-mapping will have precedence in case its length matches with 'x' & 'y'.  Please use a 2-D array with a single row if you really want to specify the same RGB or RGBA value for all points.\n"
          ],
          "name": "stderr"
        },
        {
          "output_type": "execute_result",
          "data": {
            "text/plain": [
              "Text(0, 0.5, 'mpg')"
            ]
          },
          "metadata": {
            "tags": []
          },
          "execution_count": 46
        },
        {
          "output_type": "display_data",
          "data": {
            "image/png": "[encoded data removed]",
            "text/plain": [
              "<Figure size 1152x720 with 1 Axes>"
            ]
          },
          "metadata": {
            "tags": []
          }
        }
      ]
    }
  ]
}